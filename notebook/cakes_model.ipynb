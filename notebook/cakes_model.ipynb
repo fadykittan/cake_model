{
 "nbformat": 4,
 "nbformat_minor": 0,
 "metadata": {
  "colab": {
   "provenance": []
  },
  "kernelspec": {
   "name": "python3",
   "display_name": "Python 3 (ipykernel)",
   "language": "python"
  },
  "language_info": {
   "name": "python"
  }
 },
 "cells": [
  {
   "cell_type": "code",
   "metadata": {
    "id": "S1EkSKjbz4j8",
    "ExecuteTime": {
     "end_time": "2025-03-31T17:24:29.530702Z",
     "start_time": "2025-03-31T17:24:29.369123Z"
    }
   },
   "source": [
    "import pandas as pd\n",
    "import pickle"
   ],
   "outputs": [],
   "execution_count": 5
  },
  {
   "cell_type": "code",
   "source": [
    "pd.read_csv('cakes.csv')"
   ],
   "metadata": {
    "colab": {
     "base_uri": "https://localhost:8080/",
     "height": 424
    },
    "id": "2uraEInt9O6U",
    "outputId": "65d0a614-1367-45c9-976a-e285b9909a20",
    "ExecuteTime": {
     "end_time": "2025-03-31T17:24:47.363325Z",
     "start_time": "2025-03-31T17:24:47.355215Z"
    }
   },
   "outputs": [
    {
     "data": {
      "text/plain": [
       "     Radius [cm]  Layers     Topping  Price\n",
       "0             16       1     Picture    311\n",
       "1             19       3      Simple    555\n",
       "2              4       2  Decorative     89\n",
       "3              7       1     Picture     90\n",
       "4              7       2  Decorative    100\n",
       "..           ...     ...         ...    ...\n",
       "367           10       1     Writing    119\n",
       "368           14       1      Simple    235\n",
       "369            6       1     Writing     36\n",
       "370            4       3     Extreme    180\n",
       "371           18       3     Picture    486\n",
       "\n",
       "[372 rows x 4 columns]"
      ],
      "text/html": [
       "<div>\n",
       "<style scoped>\n",
       "    .dataframe tbody tr th:only-of-type {\n",
       "        vertical-align: middle;\n",
       "    }\n",
       "\n",
       "    .dataframe tbody tr th {\n",
       "        vertical-align: top;\n",
       "    }\n",
       "\n",
       "    .dataframe thead th {\n",
       "        text-align: right;\n",
       "    }\n",
       "</style>\n",
       "<table border=\"1\" class=\"dataframe\">\n",
       "  <thead>\n",
       "    <tr style=\"text-align: right;\">\n",
       "      <th></th>\n",
       "      <th>Radius [cm]</th>\n",
       "      <th>Layers</th>\n",
       "      <th>Topping</th>\n",
       "      <th>Price</th>\n",
       "    </tr>\n",
       "  </thead>\n",
       "  <tbody>\n",
       "    <tr>\n",
       "      <th>0</th>\n",
       "      <td>16</td>\n",
       "      <td>1</td>\n",
       "      <td>Picture</td>\n",
       "      <td>311</td>\n",
       "    </tr>\n",
       "    <tr>\n",
       "      <th>1</th>\n",
       "      <td>19</td>\n",
       "      <td>3</td>\n",
       "      <td>Simple</td>\n",
       "      <td>555</td>\n",
       "    </tr>\n",
       "    <tr>\n",
       "      <th>2</th>\n",
       "      <td>4</td>\n",
       "      <td>2</td>\n",
       "      <td>Decorative</td>\n",
       "      <td>89</td>\n",
       "    </tr>\n",
       "    <tr>\n",
       "      <th>3</th>\n",
       "      <td>7</td>\n",
       "      <td>1</td>\n",
       "      <td>Picture</td>\n",
       "      <td>90</td>\n",
       "    </tr>\n",
       "    <tr>\n",
       "      <th>4</th>\n",
       "      <td>7</td>\n",
       "      <td>2</td>\n",
       "      <td>Decorative</td>\n",
       "      <td>100</td>\n",
       "    </tr>\n",
       "    <tr>\n",
       "      <th>...</th>\n",
       "      <td>...</td>\n",
       "      <td>...</td>\n",
       "      <td>...</td>\n",
       "      <td>...</td>\n",
       "    </tr>\n",
       "    <tr>\n",
       "      <th>367</th>\n",
       "      <td>10</td>\n",
       "      <td>1</td>\n",
       "      <td>Writing</td>\n",
       "      <td>119</td>\n",
       "    </tr>\n",
       "    <tr>\n",
       "      <th>368</th>\n",
       "      <td>14</td>\n",
       "      <td>1</td>\n",
       "      <td>Simple</td>\n",
       "      <td>235</td>\n",
       "    </tr>\n",
       "    <tr>\n",
       "      <th>369</th>\n",
       "      <td>6</td>\n",
       "      <td>1</td>\n",
       "      <td>Writing</td>\n",
       "      <td>36</td>\n",
       "    </tr>\n",
       "    <tr>\n",
       "      <th>370</th>\n",
       "      <td>4</td>\n",
       "      <td>3</td>\n",
       "      <td>Extreme</td>\n",
       "      <td>180</td>\n",
       "    </tr>\n",
       "    <tr>\n",
       "      <th>371</th>\n",
       "      <td>18</td>\n",
       "      <td>3</td>\n",
       "      <td>Picture</td>\n",
       "      <td>486</td>\n",
       "    </tr>\n",
       "  </tbody>\n",
       "</table>\n",
       "<p>372 rows × 4 columns</p>\n",
       "</div>"
      ]
     },
     "execution_count": 8,
     "metadata": {},
     "output_type": "execute_result"
    }
   ],
   "execution_count": 8
  },
  {
   "cell_type": "code",
   "source": [
    "# prompt: # prompt: build ML model for the next data \"cake.csv\" with the smaple:\n",
    "# # implement also onehotencoder for topping\n",
    "# # \tRadius [cm]\tLayers\tTopping\tPrice\n",
    "# # 0\t16\t1\tPicture\t311\n",
    "# # 1\t19\t3\tSimple\t555\n",
    "\n",
    "import pandas as pd\n",
    "from sklearn.model_selection import train_test_split\n",
    "from sklearn.linear_model import LinearRegression\n",
    "from sklearn.preprocessing import OneHotEncoder\n",
    "from sklearn.compose import ColumnTransformer\n",
    "\n",
    "# Load the data\n",
    "df = pd.read_csv('cakes.csv')\n",
    "\n",
    "# Separate features and target\n",
    "X = df[['Radius [cm]', 'Layers', 'Topping']]\n",
    "y = df['Price']\n",
    "\n",
    "# Create a ColumnTransformer to apply OneHotEncoder to the 'Topping' column\n",
    "oht = OneHotEncoder(sparse_output=False)\n",
    "one_hot_encoded = oht.fit_transform(X[['Topping']])\n",
    "one_hot_df = pd.DataFrame(one_hot_encoded,\n",
    "                          columns=oht.get_feature_names_out())\n",
    "\n",
    "X = pd.concat([X.drop('Topping', axis=1), one_hot_df], axis=1)\n",
    "\n",
    "# # Split the data into training and testing sets\n",
    "X_train, X_test, y_train, y_test = train_test_split(X_encoded, y, test_size=0.2, random_state=42)\n",
    "\n",
    "# Create and train the model\n",
    "model = LinearRegression()\n",
    "model.fit(X_train, y_train)\n",
    "\n",
    "# Make predictions\n",
    "y_pred = model.predict(X_test)"
   ],
   "metadata": {
    "id": "h8Y7jL_59QR6",
    "ExecuteTime": {
     "end_time": "2025-03-31T17:25:10.027567Z",
     "start_time": "2025-03-31T17:25:10.007308Z"
    }
   },
   "outputs": [
    {
     "ename": "NameError",
     "evalue": "name 'X_encoded' is not defined",
     "output_type": "error",
     "traceback": [
      "\u001B[31m---------------------------------------------------------------------------\u001B[39m",
      "\u001B[31mNameError\u001B[39m                                 Traceback (most recent call last)",
      "\u001B[36mCell\u001B[39m\u001B[36m \u001B[39m\u001B[32mIn[11]\u001B[39m\u001B[32m, line 29\u001B[39m\n\u001B[32m     26\u001B[39m X = pd.concat([X.drop(\u001B[33m'\u001B[39m\u001B[33mTopping\u001B[39m\u001B[33m'\u001B[39m, axis=\u001B[32m1\u001B[39m), one_hot_df], axis=\u001B[32m1\u001B[39m)\n\u001B[32m     28\u001B[39m \u001B[38;5;66;03m# # Split the data into training and testing sets\u001B[39;00m\n\u001B[32m---> \u001B[39m\u001B[32m29\u001B[39m X_train, X_test, y_train, y_test = train_test_split(\u001B[43mX_encoded\u001B[49m, y, test_size=\u001B[32m0.2\u001B[39m, random_state=\u001B[32m42\u001B[39m)\n\u001B[32m     31\u001B[39m \u001B[38;5;66;03m# Create and train the model\u001B[39;00m\n\u001B[32m     32\u001B[39m model = LinearRegression()\n",
      "\u001B[31mNameError\u001B[39m: name 'X_encoded' is not defined"
     ]
    }
   ],
   "execution_count": 11
  },
  {
   "cell_type": "code",
   "source": [
    "with open('model.pkl', 'wb') as f:  # open a text file\n",
    "    pickle.dump(model, f) # serialize the list\n",
    "\n",
    "with open('OneHotEncoder.pkl', 'wb') as f:  # open a text file\n",
    "    pickle.dump(oht, f) # serialize the list"
   ],
   "metadata": {
    "id": "Df3oFbrg9evJ"
   },
   "execution_count": 31,
   "outputs": []
  },
  {
   "cell_type": "code",
   "source": [],
   "metadata": {
    "id": "ZRLBAQWr90Wz"
   },
   "execution_count": null,
   "outputs": []
  }
 ]
}
